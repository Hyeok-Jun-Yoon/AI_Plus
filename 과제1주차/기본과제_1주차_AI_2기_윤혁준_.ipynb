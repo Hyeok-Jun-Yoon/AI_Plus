{
  "nbformat": 4,
  "nbformat_minor": 0,
  "metadata": {
    "colab": {
      "provenance": [],
      "gpuType": "T4",
      "include_colab_link": true
    },
    "kernelspec": {
      "name": "python3",
      "display_name": "Python 3"
    },
    "language_info": {
      "name": "python"
    },
    "accelerator": "GPU"
  },
  "cells": [
    {
      "cell_type": "markdown",
      "metadata": {
        "id": "view-in-github",
        "colab_type": "text"
      },
      "source": [
        "<a href=\"https://colab.research.google.com/github/Hyeok-Jun-Yoon/AI_Plus/blob/main/%EA%B8%B0%EB%B3%B8%EA%B3%BC%EC%A0%9C_1%EC%A3%BC%EC%B0%A8_AI_2%EA%B8%B0_%EC%9C%A4%ED%98%81%EC%A4%80_.ipynb\" target=\"_parent\"><img src=\"https://colab.research.google.com/assets/colab-badge.svg\" alt=\"Open In Colab\"/></a>"
      ]
    },
    {
      "cell_type": "markdown",
      "source": [
        "# [기본과제] MNIST 분류(classification) 모델 구현"
      ],
      "metadata": {
        "id": "OPJenlrhihrh"
      }
    },
    {
      "cell_type": "code",
      "execution_count": 1,
      "metadata": {
        "id": "6lXVfXoDtoQh"
      },
      "outputs": [],
      "source": [
        "import torch\n",
        "import torchvision\n",
        "import torchvision.transforms as transforms"
      ]
    },
    {
      "cell_type": "code",
      "source": [
        "transform = transforms.ToTensor()\n",
        "\n",
        "trainset = torchvision.datasets.MNIST(\n",
        "    root='./data',\n",
        "    train=True,\n",
        "    download=True,\n",
        "    transform=transform\n",
        ")"
      ],
      "metadata": {
        "id": "Wz0W-7rH54YB",
        "collapsed": true,
        "colab": {
          "base_uri": "https://localhost:8080/"
        },
        "outputId": "68dbe27e-261b-41eb-d545-359695edf1eb"
      },
      "execution_count": 2,
      "outputs": [
        {
          "output_type": "stream",
          "name": "stdout",
          "text": [
            "Downloading http://yann.lecun.com/exdb/mnist/train-images-idx3-ubyte.gz\n",
            "Failed to download (trying next):\n",
            "HTTP Error 403: Forbidden\n",
            "\n",
            "Downloading https://ossci-datasets.s3.amazonaws.com/mnist/train-images-idx3-ubyte.gz\n",
            "Downloading https://ossci-datasets.s3.amazonaws.com/mnist/train-images-idx3-ubyte.gz to ./data/MNIST/raw/train-images-idx3-ubyte.gz\n"
          ]
        },
        {
          "output_type": "stream",
          "name": "stderr",
          "text": [
            "100%|██████████| 9.91M/9.91M [00:02<00:00, 4.53MB/s]\n"
          ]
        },
        {
          "output_type": "stream",
          "name": "stdout",
          "text": [
            "Extracting ./data/MNIST/raw/train-images-idx3-ubyte.gz to ./data/MNIST/raw\n",
            "\n",
            "Downloading http://yann.lecun.com/exdb/mnist/train-labels-idx1-ubyte.gz\n",
            "Failed to download (trying next):\n",
            "HTTP Error 403: Forbidden\n",
            "\n",
            "Downloading https://ossci-datasets.s3.amazonaws.com/mnist/train-labels-idx1-ubyte.gz\n",
            "Downloading https://ossci-datasets.s3.amazonaws.com/mnist/train-labels-idx1-ubyte.gz to ./data/MNIST/raw/train-labels-idx1-ubyte.gz\n"
          ]
        },
        {
          "output_type": "stream",
          "name": "stderr",
          "text": [
            "100%|██████████| 28.9k/28.9k [00:00<00:00, 59.4kB/s]\n"
          ]
        },
        {
          "output_type": "stream",
          "name": "stdout",
          "text": [
            "Extracting ./data/MNIST/raw/train-labels-idx1-ubyte.gz to ./data/MNIST/raw\n",
            "\n",
            "Downloading http://yann.lecun.com/exdb/mnist/t10k-images-idx3-ubyte.gz\n",
            "Failed to download (trying next):\n",
            "HTTP Error 403: Forbidden\n",
            "\n",
            "Downloading https://ossci-datasets.s3.amazonaws.com/mnist/t10k-images-idx3-ubyte.gz\n",
            "Downloading https://ossci-datasets.s3.amazonaws.com/mnist/t10k-images-idx3-ubyte.gz to ./data/MNIST/raw/t10k-images-idx3-ubyte.gz\n"
          ]
        },
        {
          "output_type": "stream",
          "name": "stderr",
          "text": [
            "100%|██████████| 1.65M/1.65M [00:06<00:00, 244kB/s]\n"
          ]
        },
        {
          "output_type": "stream",
          "name": "stdout",
          "text": [
            "Extracting ./data/MNIST/raw/t10k-images-idx3-ubyte.gz to ./data/MNIST/raw\n",
            "\n",
            "Downloading http://yann.lecun.com/exdb/mnist/t10k-labels-idx1-ubyte.gz\n",
            "Failed to download (trying next):\n",
            "HTTP Error 403: Forbidden\n",
            "\n",
            "Downloading https://ossci-datasets.s3.amazonaws.com/mnist/t10k-labels-idx1-ubyte.gz\n",
            "Downloading https://ossci-datasets.s3.amazonaws.com/mnist/t10k-labels-idx1-ubyte.gz to ./data/MNIST/raw/t10k-labels-idx1-ubyte.gz\n"
          ]
        },
        {
          "output_type": "stream",
          "name": "stderr",
          "text": [
            "100%|██████████| 4.54k/4.54k [00:00<00:00, 6.72MB/s]"
          ]
        },
        {
          "output_type": "stream",
          "name": "stdout",
          "text": [
            "Extracting ./data/MNIST/raw/t10k-labels-idx1-ubyte.gz to ./data/MNIST/raw\n",
            "\n"
          ]
        },
        {
          "output_type": "stream",
          "name": "stderr",
          "text": [
            "\n"
          ]
        }
      ]
    },
    {
      "cell_type": "code",
      "source": [
        "batch_size = 64\n",
        "\n",
        "trainloader = torch.utils.data.DataLoader(\n",
        "    trainset,\n",
        "    batch_size=batch_size,\n",
        "    shuffle=True\n",
        ")"
      ],
      "metadata": {
        "id": "Orsexz8M6WB3"
      },
      "execution_count": null,
      "outputs": []
    },
    {
      "cell_type": "code",
      "source": [
        "from matplotlib import pyplot as plt\n",
        "\n",
        "print(len(trainset))\n",
        "print(trainset[0][0].shape, trainset[0][1])\n",
        "plt.imshow(trainset[0][0][0], cmap='gray')"
      ],
      "metadata": {
        "colab": {
          "base_uri": "https://localhost:8080/",
          "height": 0
        },
        "id": "Zsp3sHmojyhT",
        "outputId": "03254b2e-7078-4201-d501-e442917a226e",
        "collapsed": true
      },
      "execution_count": 4,
      "outputs": [
        {
          "output_type": "stream",
          "name": "stdout",
          "text": [
            "60000\n",
            "torch.Size([1, 28, 28]) 5\n"
          ]
        },
        {
          "output_type": "execute_result",
          "data": {
            "text/plain": [
              "<matplotlib.image.AxesImage at 0x7b8858089480>"
            ]
          },
          "metadata": {},
          "execution_count": 4
        },
        {
          "output_type": "display_data",
          "data": {
            "text/plain": [
              "<Figure size 640x480 with 1 Axes>"
            ],
            "image/png": "[encoded data removed]"
          },
          "metadata": {}
        }
      ]
    },
    {
      "cell_type": "markdown",
      "source": [
        "## 1. Test data 준비하기"
      ],
      "metadata": {
        "id": "pF-1zQvmiult"
      }
    },
    {
      "cell_type": "code",
      "source": [
        "transform = transforms.ToTensor()\n",
        "testset = torchvision.datasets.MNIST(\n",
        "    root='./data',\n",
        "    train=False, #[MY CODE] train=False 설정\n",
        "    download=True,\n",
        "    transform=transform\n",
        ")"
      ],
      "metadata": {
        "id": "KAYlqPaRt6ti",
        "collapsed": true
      },
      "execution_count": 3,
      "outputs": []
    },
    {
      "cell_type": "code",
      "source": [
        "batch_size = 64\n",
        "testloader = torch.utils.data.DataLoader(\n",
        "    testset,\n",
        "    batch_size=batch_size,\n",
        "    shuffle=False #[MY CODE] shuffle=False 설정\n",
        ")"
      ],
      "metadata": {
        "id": "UxKu3kA2i5WH"
      },
      "execution_count": null,
      "outputs": []
    },
    {
      "cell_type": "code",
      "source": [
        "dataiter = iter(trainloader)\n",
        "images, labels = next(dataiter) #data 파악을 위해\n",
        "print(images.shape, labels.shape)"
      ],
      "metadata": {
        "colab": {
          "base_uri": "https://localhost:8080/"
        },
        "id": "_Hd7XxyAvVNz",
        "outputId": "573d14d8-7269-4865-cfcd-371b520fc7d3",
        "collapsed": true
      },
      "execution_count": null,
      "outputs": [
        {
          "output_type": "stream",
          "name": "stdout",
          "text": [
            "torch.Size([64, 1, 28, 28]) torch.Size([64])\n"
          ]
        }
      ]
    },
    {
      "cell_type": "markdown",
      "source": [
        "## 2.  `nn.CrossEntropyLoss` 적용하기"
      ],
      "metadata": {
        "id": "j9xcC28r8bFf"
      }
    },
    {
      "cell_type": "code",
      "source": [
        "from torch import nn\n",
        "\n",
        "class Model(nn.Module):\n",
        "  def __init__(self, input_dim, n_dim):\n",
        "    super().__init__()\n",
        "    # 층 정의, 선형 변환을 수행\n",
        "    self.layer1 = nn.Linear(input_dim, n_dim)\n",
        "    self.layer2 = nn.Linear(n_dim, n_dim)\n",
        "    self.layer3 = nn.Linear(n_dim, 10) #[MY CODE] model 최종 output 10으로 변경\n",
        "\n",
        "    # ReLu 입력값이 0보단 크면 출력, 0이하면 0을 출력\n",
        "    self.act = nn.ReLU()\n",
        "\n",
        "  def forward(self, x):\n",
        "    x = torch.flatten(x, start_dim=1) #1D벡터로 평탄화하여 변환\n",
        "    x = self.act(self.layer1(x))\n",
        "    x = self.act(self.layer2(x))\n",
        "    x = self.layer3(x) #[MY CODE] 출력은 logits 형태로 출력\n",
        "\n",
        "    return x\n",
        "\n",
        "# 중간 피처갯수 정의 하이퍼파라미터\n",
        "model = Model(28 * 28 * 1, 1024) # [FEDBACK] 궁금중 : 적절한 피처갯수를 선정하는 방법이 있나요?\n"
      ],
      "metadata": {
        "id": "OLOA-ZGTuVVG"
      },
      "execution_count": 5,
      "outputs": []
    },
    {
      "cell_type": "code",
      "source": [
        "from torch.optim import SGD\n",
        "#(Stochastic Gradient Descent)\n",
        "lr = 0.001\n",
        "model = model.to('cuda')\n",
        "#가중치를 점진적으로 수정하면서 손실함수가 최소화되는 방향으로 학습시킴\n",
        "optimizer = SGD(model.parameters(), lr=lr)\n",
        "\n",
        "loss_function = nn.CrossEntropyLoss() #[MY CODE] nn.CrossEntropyLoss() 선언"
      ],
      "metadata": {
        "id": "ypS0TcOlvBhZ"
      },
      "execution_count": 14,
      "outputs": []
    },
    {
      "cell_type": "code",
      "source": [
        "n_epochs = 30 #GPU사용량 이슈로 반복학습횟수 줄여서 로그 출력\n",
        "\n",
        "for epoch in range(n_epochs):\n",
        "  total_loss = 0.\n",
        "  for data in trainloader:\n",
        "    model.zero_grad()\n",
        "    inputs, labels = data\n",
        "    inputs, labels = inputs.to('cuda'), labels.to('cuda')\n",
        "    preds = model(inputs)\n",
        "    loss = loss_function(preds,labels) #[MY CODE] nn.CrossEntropyLoss() 적용\n",
        "    loss.backward()\n",
        "    optimizer.step()\n",
        "\n",
        "    total_loss += loss.item()\n",
        "  #[LOG] CrossEntropyLoss를 사용한 loss 합 출력\n",
        "  print(f\"Epoch {epoch:3d} | Loss: {total_loss}\")"
      ],
      "metadata": {
        "colab": {
          "base_uri": "https://localhost:8080/"
        },
        "id": "TryX1hewvNiB",
        "outputId": "374821fd-fccb-4746-ee45-54a341f44f1c"
      },
      "execution_count": null,
      "outputs": [
        {
          "output_type": "stream",
          "name": "stdout",
          "text": [
            "Epoch   0 | Loss: 539.9852035045624\n",
            "Epoch   1 | Loss: 536.2177538871765\n",
            "Epoch   2 | Loss: 532.3398633003235\n",
            "Epoch   3 | Loss: 528.2312607765198\n",
            "Epoch   4 | Loss: 523.7475998401642\n",
            "Epoch   5 | Loss: 518.7788472175598\n",
            "Epoch   6 | Loss: 513.1747686862946\n",
            "Epoch   7 | Loss: 506.7923755645752\n",
            "Epoch   8 | Loss: 499.4509439468384\n",
            "Epoch   9 | Loss: 490.99937653541565\n",
            "Epoch  10 | Loss: 481.2947082519531\n",
            "Epoch  11 | Loss: 470.07003355026245\n",
            "Epoch  12 | Loss: 457.1808136701584\n",
            "Epoch  13 | Loss: 442.642165184021\n",
            "Epoch  14 | Loss: 426.34990441799164\n",
            "Epoch  15 | Loss: 408.49324548244476\n",
            "Epoch  16 | Loss: 389.3450607061386\n",
            "Epoch  17 | Loss: 369.3181149959564\n",
            "Epoch  18 | Loss: 349.0078512430191\n",
            "Epoch  19 | Loss: 328.88862788677216\n",
            "Epoch  20 | Loss: 309.4536083936691\n",
            "Epoch  21 | Loss: 291.1880210638046\n",
            "Epoch  22 | Loss: 274.1251256465912\n",
            "Epoch  23 | Loss: 258.6101365685463\n",
            "Epoch  24 | Loss: 244.6180972456932\n",
            "Epoch  25 | Loss: 231.8028057217598\n",
            "Epoch  26 | Loss: 220.50394940376282\n",
            "Epoch  27 | Loss: 210.21026611328125\n",
            "Epoch  28 | Loss: 201.03291761875153\n",
            "Epoch  29 | Loss: 192.78372138738632\n"
          ]
        }
      ]
    },
    {
      "cell_type": "code",
      "source": [
        "idx = 0\n",
        "\n",
        "x = trainset[idx][0][None]  # (1, 1, 28, 28)\n",
        "x = x.to('cuda')\n",
        "\n",
        "print(model(x))\n",
        "print(trainset[idx][1])"
      ],
      "metadata": {
        "id": "Zct0ssSKwjt1",
        "colab": {
          "base_uri": "https://localhost:8080/"
        },
        "outputId": "977bb488-34b5-4246-f04a-8a2a5fa11223",
        "collapsed": true
      },
      "execution_count": null,
      "outputs": [
        {
          "output_type": "stream",
          "name": "stdout",
          "text": [
            "tensor([[0.0693, 0.0000, 0.0000, 4.2684, 0.0000, 5.8629, 0.0000, 0.0000, 0.0000,\n",
            "         0.0000]], device='cuda:0', grad_fn=<ReluBackward0>)\n",
            "5\n"
          ]
        }
      ]
    },
    {
      "cell_type": "markdown",
      "source": [
        "## 3. 학습을 진행한 후, epoch에 따른 model의 train과 test data에 대한 정확도 plot하기"
      ],
      "metadata": {
        "id": "-63s2Hxc0Lvy"
      }
    },
    {
      "cell_type": "code",
      "source": [
        "def accuracy(model, dataloader):\n",
        "  cnt = 0\n",
        "  acc = 0\n",
        "\n",
        "  for data in dataloader:\n",
        "    inputs, labels = data\n",
        "    inputs, labels = inputs.to('cuda'), labels.to('cuda')\n",
        "\n",
        "    preds = model(inputs)\n",
        "    preds = torch.argmax(preds, dim=-1)\n",
        "\n",
        "    cnt += labels.shape[0]\n",
        "    acc += (labels == preds).sum().item()\n",
        "\n",
        "  return (acc / cnt)*100 # [MY CODE] 백분율로 표시"
      ],
      "metadata": {
        "id": "Inl59ML8-YTc"
      },
      "execution_count": 6,
      "outputs": []
    },
    {
      "cell_type": "code",
      "source": [
        "import numpy as np\n",
        "def plot_acc(train_accs_list, test_accs_list, label1='train', label2='test'):\n",
        "  x = np.arange(len(train_accs_list))\n",
        "\n",
        "  plt.plot(x, train_accs_list, label=label1)\n",
        "  plt.plot(x, test_accs_list, label=label2)\n",
        "  plt.legend()\n",
        "  plt.show()"
      ],
      "metadata": {
        "id": "d6M4SpWQoML9"
      },
      "execution_count": 7,
      "outputs": []
    },
    {
      "cell_type": "code",
      "source": [
        "#[MY CODE] n_epochs=100, batch_size=256, lr=0.001 DataLoader 설정\n",
        "trainloader = torch.utils.data.DataLoader(trainset,batch_size=256,shuffle=True)\n",
        "testloader = torch.utils.data.DataLoader(testset,batch_size=256,shuffle=False)\n",
        "lr = 0.001\n",
        "model = model.to('cuda')\n",
        "optimizer = SGD(model.parameters(), lr=lr)\n",
        "# [FEEDBACK] 혹시 여러번 학습을 하게될때는 parameter의 가중치를 초기화 같은 작업을 해줘야 하는건가요?\n",
        "# 여러번 학습하는 로직을 돌렸을때 1차부터 정확도가 80%때가 나오는데 다시 0부터 학습을 시켜야 하면 어떻게 해야 할까요?\n",
        "\n",
        "train_accs_list = []\n",
        "test_accs_list = []"
      ],
      "metadata": {
        "id": "4XsW3H3LKpPd"
      },
      "execution_count": 11,
      "outputs": []
    },
    {
      "cell_type": "code",
      "source": [
        "dataiter = iter(trainloader)\n",
        "images, labels = next(dataiter) #data 파악을 위해\n",
        "print(images.shape, labels.shape)"
      ],
      "metadata": {
        "colab": {
          "base_uri": "https://localhost:8080/"
        },
        "id": "DB0-7DefMtrf",
        "outputId": "4ef556ce-79a8-4a8b-ff14-eab1380e9454"
      },
      "execution_count": 12,
      "outputs": [
        {
          "output_type": "stream",
          "name": "stdout",
          "text": [
            "torch.Size([256, 1, 28, 28]) torch.Size([256])\n"
          ]
        }
      ]
    },
    {
      "cell_type": "code",
      "source": [
        "n_epochs = 100\n",
        "for epoch in range(n_epochs):\n",
        "    # 학습\n",
        "    model.train()\n",
        "\n",
        "    for data in trainloader:\n",
        "        model.zero_grad()\n",
        "        inputs, labels = data\n",
        "        inputs, labels = inputs.to('cuda'), labels.to('cuda')\n",
        "        preds = model(inputs)\n",
        "        loss = loss_function(preds, labels)\n",
        "        loss.backward()\n",
        "        optimizer.step()\n",
        "\n",
        "    # [MY CODE] 학습 정확도 계산\n",
        "    train_accs = accuracy(model, trainloader)\n",
        "\n",
        "    # 테스트\n",
        "    model.eval()\n",
        "\n",
        "    with torch.no_grad():\n",
        "        # [MY CODE] 테스트 정확도 계산\n",
        "        test_accs = accuracy(model, testloader)\n",
        "\n",
        "     # [MY CODE] epoch 마다 list로 저장\n",
        "    train_accs_list.append(train_accs)\n",
        "    test_accs_list.append(test_accs)\n",
        "\n",
        "     # [LOG] 에폭마다 훈련 및 테스트 정확도 출력\n",
        "    print(f\"Epoch [{epoch+1}/{n_epochs}], Train Accuracy: {train_accs:.2f}%, Test Accuracy: {test_accs:.2f}%\")"
      ],
      "metadata": {
        "colab": {
          "base_uri": "https://localhost:8080/"
        },
        "id": "sOTsbKLCA-3W",
        "outputId": "d575d889-1749-41c1-e2fd-01af8bbcf156"
      },
      "execution_count": 15,
      "outputs": [
        {
          "output_type": "stream",
          "name": "stdout",
          "text": [
            "Epoch [1/100], Train Accuracy: 34.34%, Test Accuracy: 34.94%\n",
            "Epoch [2/100], Train Accuracy: 43.65%, Test Accuracy: 43.71%\n",
            "Epoch [3/100], Train Accuracy: 49.11%, Test Accuracy: 49.03%\n",
            "Epoch [4/100], Train Accuracy: 52.91%, Test Accuracy: 53.15%\n",
            "Epoch [5/100], Train Accuracy: 55.92%, Test Accuracy: 56.34%\n",
            "Epoch [6/100], Train Accuracy: 58.23%, Test Accuracy: 58.62%\n",
            "Epoch [7/100], Train Accuracy: 60.15%, Test Accuracy: 60.77%\n",
            "Epoch [8/100], Train Accuracy: 61.75%, Test Accuracy: 62.23%\n",
            "Epoch [9/100], Train Accuracy: 62.99%, Test Accuracy: 63.32%\n",
            "Epoch [10/100], Train Accuracy: 64.06%, Test Accuracy: 64.17%\n",
            "Epoch [11/100], Train Accuracy: 64.90%, Test Accuracy: 65.06%\n",
            "Epoch [12/100], Train Accuracy: 65.71%, Test Accuracy: 65.84%\n",
            "Epoch [13/100], Train Accuracy: 66.43%, Test Accuracy: 66.52%\n",
            "Epoch [14/100], Train Accuracy: 67.07%, Test Accuracy: 67.05%\n",
            "Epoch [15/100], Train Accuracy: 67.86%, Test Accuracy: 67.89%\n",
            "Epoch [16/100], Train Accuracy: 69.02%, Test Accuracy: 69.22%\n",
            "Epoch [17/100], Train Accuracy: 70.04%, Test Accuracy: 70.30%\n",
            "Epoch [18/100], Train Accuracy: 71.53%, Test Accuracy: 72.25%\n",
            "Epoch [19/100], Train Accuracy: 73.02%, Test Accuracy: 73.84%\n",
            "Epoch [20/100], Train Accuracy: 74.47%, Test Accuracy: 75.21%\n",
            "Epoch [21/100], Train Accuracy: 75.85%, Test Accuracy: 76.63%\n",
            "Epoch [22/100], Train Accuracy: 77.20%, Test Accuracy: 77.93%\n",
            "Epoch [23/100], Train Accuracy: 78.06%, Test Accuracy: 78.83%\n",
            "Epoch [24/100], Train Accuracy: 79.01%, Test Accuracy: 79.67%\n",
            "Epoch [25/100], Train Accuracy: 79.84%, Test Accuracy: 80.65%\n",
            "Epoch [26/100], Train Accuracy: 80.48%, Test Accuracy: 81.32%\n",
            "Epoch [27/100], Train Accuracy: 81.09%, Test Accuracy: 81.76%\n",
            "Epoch [28/100], Train Accuracy: 81.59%, Test Accuracy: 82.24%\n",
            "Epoch [29/100], Train Accuracy: 82.00%, Test Accuracy: 82.57%\n",
            "Epoch [30/100], Train Accuracy: 82.34%, Test Accuracy: 82.94%\n",
            "Epoch [31/100], Train Accuracy: 82.71%, Test Accuracy: 83.20%\n",
            "Epoch [32/100], Train Accuracy: 83.09%, Test Accuracy: 83.48%\n",
            "Epoch [33/100], Train Accuracy: 83.36%, Test Accuracy: 83.72%\n",
            "Epoch [34/100], Train Accuracy: 83.68%, Test Accuracy: 84.06%\n",
            "Epoch [35/100], Train Accuracy: 84.00%, Test Accuracy: 84.39%\n",
            "Epoch [36/100], Train Accuracy: 84.39%, Test Accuracy: 84.85%\n",
            "Epoch [37/100], Train Accuracy: 84.59%, Test Accuracy: 85.12%\n",
            "Epoch [38/100], Train Accuracy: 84.89%, Test Accuracy: 85.31%\n",
            "Epoch [39/100], Train Accuracy: 85.15%, Test Accuracy: 85.60%\n",
            "Epoch [40/100], Train Accuracy: 85.41%, Test Accuracy: 85.88%\n",
            "Epoch [41/100], Train Accuracy: 85.56%, Test Accuracy: 86.17%\n",
            "Epoch [42/100], Train Accuracy: 85.79%, Test Accuracy: 86.57%\n",
            "Epoch [43/100], Train Accuracy: 86.04%, Test Accuracy: 86.67%\n",
            "Epoch [44/100], Train Accuracy: 86.22%, Test Accuracy: 86.84%\n",
            "Epoch [45/100], Train Accuracy: 86.43%, Test Accuracy: 87.09%\n",
            "Epoch [46/100], Train Accuracy: 86.61%, Test Accuracy: 87.21%\n",
            "Epoch [47/100], Train Accuracy: 86.77%, Test Accuracy: 87.39%\n",
            "Epoch [48/100], Train Accuracy: 86.94%, Test Accuracy: 87.51%\n",
            "Epoch [49/100], Train Accuracy: 87.13%, Test Accuracy: 87.62%\n",
            "Epoch [50/100], Train Accuracy: 87.24%, Test Accuracy: 87.78%\n",
            "Epoch [51/100], Train Accuracy: 87.37%, Test Accuracy: 87.87%\n",
            "Epoch [52/100], Train Accuracy: 87.53%, Test Accuracy: 88.00%\n",
            "Epoch [53/100], Train Accuracy: 87.64%, Test Accuracy: 88.11%\n",
            "Epoch [54/100], Train Accuracy: 87.69%, Test Accuracy: 88.18%\n",
            "Epoch [55/100], Train Accuracy: 87.83%, Test Accuracy: 88.24%\n",
            "Epoch [56/100], Train Accuracy: 87.88%, Test Accuracy: 88.40%\n",
            "Epoch [57/100], Train Accuracy: 87.99%, Test Accuracy: 88.45%\n",
            "Epoch [58/100], Train Accuracy: 88.04%, Test Accuracy: 88.57%\n",
            "Epoch [59/100], Train Accuracy: 88.14%, Test Accuracy: 88.66%\n",
            "Epoch [60/100], Train Accuracy: 88.25%, Test Accuracy: 88.84%\n",
            "Epoch [61/100], Train Accuracy: 88.37%, Test Accuracy: 88.89%\n",
            "Epoch [62/100], Train Accuracy: 88.42%, Test Accuracy: 88.96%\n",
            "Epoch [63/100], Train Accuracy: 88.47%, Test Accuracy: 89.04%\n",
            "Epoch [64/100], Train Accuracy: 88.57%, Test Accuracy: 89.07%\n",
            "Epoch [65/100], Train Accuracy: 88.63%, Test Accuracy: 89.18%\n",
            "Epoch [66/100], Train Accuracy: 88.72%, Test Accuracy: 89.25%\n",
            "Epoch [67/100], Train Accuracy: 88.76%, Test Accuracy: 89.27%\n",
            "Epoch [68/100], Train Accuracy: 88.83%, Test Accuracy: 89.35%\n",
            "Epoch [69/100], Train Accuracy: 88.90%, Test Accuracy: 89.37%\n",
            "Epoch [70/100], Train Accuracy: 88.97%, Test Accuracy: 89.41%\n",
            "Epoch [71/100], Train Accuracy: 89.01%, Test Accuracy: 89.47%\n",
            "Epoch [72/100], Train Accuracy: 89.09%, Test Accuracy: 89.52%\n",
            "Epoch [73/100], Train Accuracy: 89.14%, Test Accuracy: 89.55%\n",
            "Epoch [74/100], Train Accuracy: 89.16%, Test Accuracy: 89.64%\n",
            "Epoch [75/100], Train Accuracy: 89.23%, Test Accuracy: 89.57%\n",
            "Epoch [76/100], Train Accuracy: 89.29%, Test Accuracy: 89.69%\n",
            "Epoch [77/100], Train Accuracy: 89.33%, Test Accuracy: 89.71%\n",
            "Epoch [78/100], Train Accuracy: 89.38%, Test Accuracy: 89.77%\n",
            "Epoch [79/100], Train Accuracy: 89.44%, Test Accuracy: 89.75%\n",
            "Epoch [80/100], Train Accuracy: 89.46%, Test Accuracy: 89.85%\n",
            "Epoch [81/100], Train Accuracy: 89.50%, Test Accuracy: 89.87%\n",
            "Epoch [82/100], Train Accuracy: 89.57%, Test Accuracy: 89.93%\n",
            "Epoch [83/100], Train Accuracy: 89.59%, Test Accuracy: 89.89%\n",
            "Epoch [84/100], Train Accuracy: 89.62%, Test Accuracy: 89.98%\n",
            "Epoch [85/100], Train Accuracy: 89.66%, Test Accuracy: 90.01%\n",
            "Epoch [86/100], Train Accuracy: 89.70%, Test Accuracy: 90.08%\n",
            "Epoch [87/100], Train Accuracy: 89.74%, Test Accuracy: 90.06%\n",
            "Epoch [88/100], Train Accuracy: 89.82%, Test Accuracy: 90.13%\n",
            "Epoch [89/100], Train Accuracy: 89.81%, Test Accuracy: 90.17%\n",
            "Epoch [90/100], Train Accuracy: 89.86%, Test Accuracy: 90.16%\n",
            "Epoch [91/100], Train Accuracy: 89.91%, Test Accuracy: 90.20%\n",
            "Epoch [92/100], Train Accuracy: 89.92%, Test Accuracy: 90.29%\n",
            "Epoch [93/100], Train Accuracy: 89.98%, Test Accuracy: 90.23%\n",
            "Epoch [94/100], Train Accuracy: 89.98%, Test Accuracy: 90.31%\n",
            "Epoch [95/100], Train Accuracy: 90.04%, Test Accuracy: 90.28%\n",
            "Epoch [96/100], Train Accuracy: 90.09%, Test Accuracy: 90.38%\n",
            "Epoch [97/100], Train Accuracy: 90.12%, Test Accuracy: 90.35%\n",
            "Epoch [98/100], Train Accuracy: 90.16%, Test Accuracy: 90.45%\n",
            "Epoch [99/100], Train Accuracy: 90.17%, Test Accuracy: 90.38%\n",
            "Epoch [100/100], Train Accuracy: 90.18%, Test Accuracy: 90.41%\n"
          ]
        }
      ]
    },
    {
      "cell_type": "code",
      "source": [
        "#[MY CODE] train과 test data에 대한 model의 정확도 plot\n",
        "plot_acc(train_accs_list, test_accs_list, label1='train', label2='test')"
      ],
      "metadata": {
        "colab": {
          "base_uri": "https://localhost:8080/",
          "height": 430
        },
        "id": "N0ijmAf1aac-",
        "outputId": "b67006ab-7ac9-4b28-f379-8b5c9970c637"
      },
      "execution_count": 16,
      "outputs": [
        {
          "output_type": "display_data",
          "data": {
            "text/plain": [
              "<Figure size 640x480 with 1 Axes>"
            ],
            "image/png": "[encoded data removed]"
          },
          "metadata": {}
        }
      ]
    }
  ]
}
