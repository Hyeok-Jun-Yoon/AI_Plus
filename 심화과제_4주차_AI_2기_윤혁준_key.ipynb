{
  "nbformat": 4,
  "nbformat_minor": 0,
  "metadata": {
    "colab": {
      "provenance": [],
      "gpuType": "T4",
      "include_colab_link": true
    },
    "kernelspec": {
      "name": "python3",
      "display_name": "Python 3"
    },
    "language_info": {
      "name": "python"
    },
    "accelerator": "GPU"
  },
  "cells": [
    {
      "cell_type": "markdown",
      "metadata": {
        "id": "view-in-github",
        "colab_type": "text"
      },
      "source": [
        "<a href=\"https://colab.research.google.com/github/Hyeok-Jun-Yoon/AI_Plus/blob/main/%EC%8B%AC%ED%99%94%EA%B3%BC%EC%A0%9C_4%EC%A3%BC%EC%B0%A8_AI_2%EA%B8%B0_%EC%9C%A4%ED%98%81%EC%A4%80_key.ipynb\" target=\"_parent\"><img src=\"https://colab.research.google.com/assets/colab-badge.svg\" alt=\"Open In Colab\"/></a>"
      ]
    },
    {
      "cell_type": "markdown",
      "source": [
        "# 심화과제: 수능 국어 문제 GPT-4로 풀어보기\n",
        "\n"
      ],
      "metadata": {
        "id": "wUk08smFpXCJ"
      }
    },
    {
      "cell_type": "code",
      "execution_count": 1,
      "metadata": {
        "colab": {
          "base_uri": "https://localhost:8080/"
        },
        "id": "x3mIFZyNXwvP",
        "outputId": "b917c64d-8f05-4bc2-94aa-37629d509f6b",
        "collapsed": true
      },
      "outputs": [
        {
          "output_type": "stream",
          "name": "stdout",
          "text": [
            "Requirement already satisfied: openai in /usr/local/lib/python3.10/dist-packages (1.59.4)\n",
            "Collecting datasets\n",
            "  Downloading datasets-3.2.0-py3-none-any.whl.metadata (20 kB)\n",
            "Requirement already satisfied: anyio<5,>=3.5.0 in /usr/local/lib/python3.10/dist-packages (from openai) (3.7.1)\n",
            "Requirement already satisfied: distro<2,>=1.7.0 in /usr/local/lib/python3.10/dist-packages (from openai) (1.9.0)\n",
            "Requirement already satisfied: httpx<1,>=0.23.0 in /usr/local/lib/python3.10/dist-packages (from openai) (0.28.1)\n",
            "Requirement already satisfied: jiter<1,>=0.4.0 in /usr/local/lib/python3.10/dist-packages (from openai) (0.8.2)\n",
            "Requirement already satisfied: pydantic<3,>=1.9.0 in /usr/local/lib/python3.10/dist-packages (from openai) (2.10.4)\n",
            "Requirement already satisfied: sniffio in /usr/local/lib/python3.10/dist-packages (from openai) (1.3.1)\n",
            "Requirement already satisfied: tqdm>4 in /usr/local/lib/python3.10/dist-packages (from openai) (4.67.1)\n",
            "Requirement already satisfied: typing-extensions<5,>=4.11 in /usr/local/lib/python3.10/dist-packages (from openai) (4.12.2)\n",
            "Requirement already satisfied: filelock in /usr/local/lib/python3.10/dist-packages (from datasets) (3.16.1)\n",
            "Requirement already satisfied: numpy>=1.17 in /usr/local/lib/python3.10/dist-packages (from datasets) (1.26.4)\n",
            "Requirement already satisfied: pyarrow>=15.0.0 in /usr/local/lib/python3.10/dist-packages (from datasets) (17.0.0)\n",
            "Collecting dill<0.3.9,>=0.3.0 (from datasets)\n",
            "  Downloading dill-0.3.8-py3-none-any.whl.metadata (10 kB)\n",
            "Requirement already satisfied: pandas in /usr/local/lib/python3.10/dist-packages (from datasets) (2.2.2)\n",
            "Requirement already satisfied: requests>=2.32.2 in /usr/local/lib/python3.10/dist-packages (from datasets) (2.32.3)\n",
            "Collecting xxhash (from datasets)\n",
            "  Downloading xxhash-3.5.0-cp310-cp310-manylinux_2_17_x86_64.manylinux2014_x86_64.whl.metadata (12 kB)\n",
            "Collecting multiprocess<0.70.17 (from datasets)\n",
            "  Downloading multiprocess-0.70.16-py310-none-any.whl.metadata (7.2 kB)\n",
            "Collecting fsspec<=2024.9.0,>=2023.1.0 (from fsspec[http]<=2024.9.0,>=2023.1.0->datasets)\n",
            "  Downloading fsspec-2024.9.0-py3-none-any.whl.metadata (11 kB)\n",
            "Requirement already satisfied: aiohttp in /usr/local/lib/python3.10/dist-packages (from datasets) (3.11.11)\n",
            "Requirement already satisfied: huggingface-hub>=0.23.0 in /usr/local/lib/python3.10/dist-packages (from datasets) (0.27.1)\n",
            "Requirement already satisfied: packaging in /usr/local/lib/python3.10/dist-packages (from datasets) (24.2)\n",
            "Requirement already satisfied: pyyaml>=5.1 in /usr/local/lib/python3.10/dist-packages (from datasets) (6.0.2)\n",
            "Requirement already satisfied: idna>=2.8 in /usr/local/lib/python3.10/dist-packages (from anyio<5,>=3.5.0->openai) (3.10)\n",
            "Requirement already satisfied: exceptiongroup in /usr/local/lib/python3.10/dist-packages (from anyio<5,>=3.5.0->openai) (1.2.2)\n",
            "Requirement already satisfied: aiohappyeyeballs>=2.3.0 in /usr/local/lib/python3.10/dist-packages (from aiohttp->datasets) (2.4.4)\n",
            "Requirement already satisfied: aiosignal>=1.1.2 in /usr/local/lib/python3.10/dist-packages (from aiohttp->datasets) (1.3.2)\n",
            "Requirement already satisfied: async-timeout<6.0,>=4.0 in /usr/local/lib/python3.10/dist-packages (from aiohttp->datasets) (4.0.3)\n",
            "Requirement already satisfied: attrs>=17.3.0 in /usr/local/lib/python3.10/dist-packages (from aiohttp->datasets) (24.3.0)\n",
            "Requirement already satisfied: frozenlist>=1.1.1 in /usr/local/lib/python3.10/dist-packages (from aiohttp->datasets) (1.5.0)\n",
            "Requirement already satisfied: multidict<7.0,>=4.5 in /usr/local/lib/python3.10/dist-packages (from aiohttp->datasets) (6.1.0)\n",
            "Requirement already satisfied: propcache>=0.2.0 in /usr/local/lib/python3.10/dist-packages (from aiohttp->datasets) (0.2.1)\n",
            "Requirement already satisfied: yarl<2.0,>=1.17.0 in /usr/local/lib/python3.10/dist-packages (from aiohttp->datasets) (1.18.3)\n",
            "Requirement already satisfied: certifi in /usr/local/lib/python3.10/dist-packages (from httpx<1,>=0.23.0->openai) (2024.12.14)\n",
            "Requirement already satisfied: httpcore==1.* in /usr/local/lib/python3.10/dist-packages (from httpx<1,>=0.23.0->openai) (1.0.7)\n",
            "Requirement already satisfied: h11<0.15,>=0.13 in /usr/local/lib/python3.10/dist-packages (from httpcore==1.*->httpx<1,>=0.23.0->openai) (0.14.0)\n",
            "Requirement already satisfied: annotated-types>=0.6.0 in /usr/local/lib/python3.10/dist-packages (from pydantic<3,>=1.9.0->openai) (0.7.0)\n",
            "Requirement already satisfied: pydantic-core==2.27.2 in /usr/local/lib/python3.10/dist-packages (from pydantic<3,>=1.9.0->openai) (2.27.2)\n",
            "Requirement already satisfied: charset-normalizer<4,>=2 in /usr/local/lib/python3.10/dist-packages (from requests>=2.32.2->datasets) (3.4.1)\n",
            "Requirement already satisfied: urllib3<3,>=1.21.1 in /usr/local/lib/python3.10/dist-packages (from requests>=2.32.2->datasets) (2.3.0)\n",
            "Requirement already satisfied: python-dateutil>=2.8.2 in /usr/local/lib/python3.10/dist-packages (from pandas->datasets) (2.8.2)\n",
            "Requirement already satisfied: pytz>=2020.1 in /usr/local/lib/python3.10/dist-packages (from pandas->datasets) (2024.2)\n",
            "Requirement already satisfied: tzdata>=2022.7 in /usr/local/lib/python3.10/dist-packages (from pandas->datasets) (2024.2)\n",
            "Requirement already satisfied: six>=1.5 in /usr/local/lib/python3.10/dist-packages (from python-dateutil>=2.8.2->pandas->datasets) (1.17.0)\n",
            "Downloading datasets-3.2.0-py3-none-any.whl (480 kB)\n",
            "\u001b[2K   \u001b[90m━━━━━━━━━━━━━━━━━━━━━━━━━━━━━━━━━━━━━━━━\u001b[0m \u001b[32m480.6/480.6 kB\u001b[0m \u001b[31m14.5 MB/s\u001b[0m eta \u001b[36m0:00:00\u001b[0m\n",
            "\u001b[?25hDownloading dill-0.3.8-py3-none-any.whl (116 kB)\n",
            "\u001b[2K   \u001b[90m━━━━━━━━━━━━━━━━━━━━━━━━━━━━━━━━━━━━━━━━\u001b[0m \u001b[32m116.3/116.3 kB\u001b[0m \u001b[31m10.8 MB/s\u001b[0m eta \u001b[36m0:00:00\u001b[0m\n",
            "\u001b[?25hDownloading fsspec-2024.9.0-py3-none-any.whl (179 kB)\n",
            "\u001b[2K   \u001b[90m━━━━━━━━━━━━━━━━━━━━━━━━━━━━━━━━━━━━━━━━\u001b[0m \u001b[32m179.3/179.3 kB\u001b[0m \u001b[31m12.8 MB/s\u001b[0m eta \u001b[36m0:00:00\u001b[0m\n",
            "\u001b[?25hDownloading multiprocess-0.70.16-py310-none-any.whl (134 kB)\n",
            "\u001b[2K   \u001b[90m━━━━━━━━━━━━━━━━━━━━━━━━━━━━━━━━━━━━━━━━\u001b[0m \u001b[32m134.8/134.8 kB\u001b[0m \u001b[31m9.1 MB/s\u001b[0m eta \u001b[36m0:00:00\u001b[0m\n",
            "\u001b[?25hDownloading xxhash-3.5.0-cp310-cp310-manylinux_2_17_x86_64.manylinux2014_x86_64.whl (194 kB)\n",
            "\u001b[2K   \u001b[90m━━━━━━━━━━━━━━━━━━━━━━━━━━━━━━━━━━━━━━━━\u001b[0m \u001b[32m194.1/194.1 kB\u001b[0m \u001b[31m13.7 MB/s\u001b[0m eta \u001b[36m0:00:00\u001b[0m\n",
            "\u001b[?25hInstalling collected packages: xxhash, fsspec, dill, multiprocess, datasets\n",
            "  Attempting uninstall: fsspec\n",
            "    Found existing installation: fsspec 2024.10.0\n",
            "    Uninstalling fsspec-2024.10.0:\n",
            "      Successfully uninstalled fsspec-2024.10.0\n",
            "\u001b[31mERROR: pip's dependency resolver does not currently take into account all the packages that are installed. This behaviour is the source of the following dependency conflicts.\n",
            "gcsfs 2024.10.0 requires fsspec==2024.10.0, but you have fsspec 2024.9.0 which is incompatible.\u001b[0m\u001b[31m\n",
            "\u001b[0mSuccessfully installed datasets-3.2.0 dill-0.3.8 fsspec-2024.9.0 multiprocess-0.70.16 xxhash-3.5.0\n"
          ]
        }
      ],
      "source": [
        "!pip install openai datasets"
      ]
    },
    {
      "cell_type": "markdown",
      "source": [
        "[MYCODE] API Key 설정"
      ],
      "metadata": {
        "id": "SUj8i-7TyfsV"
      }
    },
    {
      "cell_type": "code",
      "source": [
        "from openai import OpenAI\n",
        "from google.colab import userdata\n",
        "\n",
        "client = OpenAI(api_key=userdata.get('api_key'))"
      ],
      "metadata": {
        "id": "TuFFzx_TXxn3"
      },
      "execution_count": 2,
      "outputs": []
    },
    {
      "cell_type": "markdown",
      "source": [
        "## [MYCODE] 수능 국어 문제 준비"
      ],
      "metadata": {
        "id": "DG-nzPYfyv_P"
      }
    },
    {
      "cell_type": "code",
      "source": [
        "import pandas as pd\n",
        "import requests\n",
        "\n",
        "# GitHub URL에서 JSON 파일을 가져옵니다.\n",
        "url = \"https://raw.githubusercontent.com/NomaDamas/KICE_slayer_AI_Korean/refs/heads/master/data/2023_11_KICE.json\"\n",
        "\n",
        "# URL에서 JSON 데이터 가져오기\n",
        "response = requests.get(url)\n",
        "\n",
        "# 인코딩을 UTF-8로 설정하여 처리\n",
        "response.encoding = 'utf-8'\n",
        "\n",
        "# JSON 데이터 로드\n",
        "\n",
        "CSAT_questions_json = response.json()\n",
        "\n",
        "# pandas DataFrame으로 변환\n",
        "df_check = pd.DataFrame(CSAT_questions_json)\n",
        "\n",
        "# 출력\n",
        "print(df_check.head())\n"
      ],
      "metadata": {
        "id": "D8vHacabz0VP",
        "colab": {
          "base_uri": "https://localhost:8080/"
        },
        "outputId": "4785fdd6-2ac7-4a84-ff80-8cc4bcc6aa68"
      },
      "execution_count": null,
      "outputs": [
        {
          "output_type": "stream",
          "name": "stdout",
          "text": [
            "                   id                                          paragraph  \\\n",
            "0    2023_11_KICE_1-3  사람들이 지속적으로 책을 읽는 이유 중 하나는 즐거움이다. 독서의 즐거움에는 여러 ...   \n",
            "1    2023_11_KICE_4-9  (가)[A](중국에서 비롯된 유서(類書)는 고금의 서적에서 자료를 수집하고 항목별로...   \n",
            "2  2023_11_KICE_10-13  법령의 조문은 대개 ‘A에 해당하면 B를 해야 한다.’처럼 요건과효과로 구성된 조건...   \n",
            "3  2023_11_KICE_14-17  하루에 필요한 에너지의 양은 하루 동안의 총 열량 소모량인 대사량으로 구한다. 그중...   \n",
            "4  2023_11_KICE_18-21  혼례를 마친 후 최척이 아내와 함께 장모를 모시고 집으로 돌아오매 하인들이 기뻐했다...   \n",
            "\n",
            "   type                                           problems  \n",
            "0     0  [{'question': '윗글의 내용과 일치하지 않는 것은?', 'choices'...  \n",
            "1     0  [{'question': '(가)와 (나)에 대한 설명으로 가장 적절한 것은?', ...  \n",
            "2     0  [{'question': '윗글의 내용과 일치하지 않는 것은?', 'choices'...  \n",
            "3     0  [{'question': '윗글의 내용과 일치하지 않는 것은?', 'choices'...  \n",
            "4     1  [{'question': '윗글에 대한 설명으로 가장 적절한 것은?', 'choic...  \n"
          ]
        }
      ]
    },
    {
      "cell_type": "markdown",
      "source": [
        "## [MYCODE] problems 항목 평준화"
      ],
      "metadata": {
        "id": "09gqkZEhWpUo"
      }
    },
    {
      "cell_type": "code",
      "source": [
        "def create_flattend_data(data):\n",
        "  flattened_data = []\n",
        "  for entry in data:\n",
        "     problems = entry['problems']\n",
        "     for problem in problems:\n",
        "      flattened_problem = {\n",
        "          'id': entry['id'],\n",
        "          'paragraph': entry['paragraph'],\n",
        "          'question': problem['question'],\n",
        "          'question_plus': problem.get('question_plus', None),  # 'question_plus'가 없을 수도 있기 때문에 기본값 None 설정\n",
        "          'choices': problem['choices'],\n",
        "          'answer': problem['answer'],\n",
        "          'score': problem['score']\n",
        "                }\n",
        "      flattened_data.append(flattened_problem)\n",
        "  return pd.DataFrame(flattened_data)\n",
        "\n",
        "# 결과 확인\n",
        "#print(create_flattend_data(CSAT_questions_json))"
      ],
      "metadata": {
        "id": "ju93ynUHtr4t"
      },
      "execution_count": null,
      "outputs": []
    },
    {
      "cell_type": "markdown",
      "source": [
        "## [MYCODE] 수능 국어 문제 생성\n",
        "\n"
      ],
      "metadata": {
        "id": "V4R8JIJqth8R"
      }
    },
    {
      "cell_type": "code",
      "source": [
        "def generate_batch_prompt(df, batch_size):\n",
        "    prompts = []  # 배치별로 생성된 prompt들을 저장할 리스트\n",
        "\n",
        "    # DataFrame의 각 row를 순회\n",
        "    for i in range(0, len(df), batch_size):\n",
        "        batch_df = df.iloc[i:i + batch_size]\n",
        "\n",
        "        prompt = \"다음 문단에서 각 질문의 정답을 **###숫자** 형식으로 작성하세요. 모르는내용은 ###0으로 표기해주세요 예시: ###1, ###2, ###3.\\n\\n\"\n",
        "\n",
        "        # 각 배치에 대해 문단, 질문 및 선택지를 추가\n",
        "        for idx, row in batch_df.iterrows():\n",
        "            prompt += f\"{idx+1}번 문단: {row['paragraph']}\\n\"  # 문단\n",
        "            if row['question_plus']:\n",
        "                prompt += f\"{idx+1}번 보기: {row['question_plus']}\\n\"  # 보기\n",
        "            prompt += f\"{idx+1}번 선택지: \\n\"\n",
        "            for choice_idx, choice in enumerate(row['choices'], start=1):\n",
        "                prompt += f\"{choice_idx}. {choice}\\n\"  # 선택지 번호 붙이기\n",
        "            prompt += f\"{idx+1}번 질문: {row['question']}\"  # 질문\n",
        "            if row['question_plus']:\n",
        "              prompt += f\"({idx+1}번 문단을 분석한 후 {idx+1}번 보기를 참고하여 {idx+1}번 질문에 답을 {idx+1}번 선택지에서 고르세요).\\n\\n\"\n",
        "            else:\n",
        "              prompt += f\"({idx+1}번 문단을 분석한 후 {idx+1}번 선택지에서 {idx+1}번 질문의 답을 고르세요).\\n\\n\"\n",
        "\n",
        "        # 최종 프롬프트를 리스트에 추가\n",
        "        prompts.append(prompt)\n",
        "\n",
        "    return prompts"
      ],
      "metadata": {
        "id": "ksStqpsrW9FV"
      },
      "execution_count": null,
      "outputs": []
    },
    {
      "cell_type": "code",
      "source": [
        "len(generate_batch_prompt(create_flattend_data(CSAT_questions_json),3))"
      ],
      "metadata": {
        "colab": {
          "base_uri": "https://localhost:8080/"
        },
        "id": "VIQeyq1Cod_Q",
        "outputId": "0e51b913-bfdb-4071-baa4-a11b44fc299d"
      },
      "execution_count": null,
      "outputs": [
        {
          "output_type": "execute_result",
          "data": {
            "text/plain": [
              "15"
            ]
          },
          "metadata": {},
          "execution_count": 48
        }
      ]
    },
    {
      "cell_type": "code",
      "source": [
        "batch_prompt = generate_batch_prompt(create_flattend_data(CSAT_questions_json),3)\n",
        "print(batch_prompt[4])"
      ],
      "metadata": {
        "colab": {
          "base_uri": "https://localhost:8080/"
        },
        "id": "K_l-qN8jtSuA",
        "outputId": "32bbdb59-0669-4a66-d89e-21cf66d104bb"
      },
      "execution_count": null,
      "outputs": [
        {
          "output_type": "stream",
          "name": "stdout",
          "text": [
            "다음 문단에서 각 질문의 정답을 **###숫자** 형식으로 작성하세요. 모르는내용은 ###0으로 표기해주세요 예시: ###1, ###2, ###3.\n",
            "\n",
            "13번 문단: 법령의 조문은 대개 ‘A에 해당하면 B를 해야 한다.’처럼 요건과효과로 구성된 조건문으로 규정된다. 하지만 그 요건이나 효과가항상 일의적인 것은 아니다. 법조문에는 구체적 상황을 고려해야그 상황에 ⓐ(맞는) 진정한 의미가 파악되는 불확정 개념이 사용될 수 있기 때문이다. 개인 간 법률관계를 규율하는 민법에서 불확정 개념이 사용된 예로 ‘손해 배상 예정액이 부당히 과다한경우에는 법원은 적당히 감액할 수 있다.’라는 조문을 ⓑ(들) 수 있다. 이때 법원은 요건과 효과를 재량으로 판단할 수 있다. 손해배상 예정액은 위약금의 일종이며, 계약 위반에 대한 제재인 위약벌도 위약금에 속한다. 위약금의 성격이 둘 중 무엇인지 증명되지 못하면 손해 배상 예정액으로 다루어진다.채무자의 잘못으로 계약 내용이 실현되지 못하여 계약 위반이발생하면, 이로 인해 손해를 입은 채권자가 손해 액수를 증명해야 그 액수만큼 손해 배상금을 받을 수 있다. 그러나 손해 배상 예정액이 정해져 있었다면 채권자는 손해 액수를 증명하지 않아도 손해 배상 예정액만큼 손해 배상금을 받을 수 있다. 이때 손해 액수가 얼마로 증명되든 손해 배상 예정액보다 더 받을 수는 없다. 한편 위약금이 위약벌임이 증명되면 채권자는 위약벌에 해당하는 위약금을 ⓒ(받을) 수 있고, 손해 배상 예정액과는 달리 법원이 감액할 수 없다. 이때 채권자가 손해 액수를증명하면 손해 배상금도 받을 수 있다.불확정 개념은 행정 법령에도 사용된다. 행정 법령은 행정청이구체적 사실에 대해 행하는 법 집행인 행정 작용을 규율한다. 법령상 요건이 충족되면 그 효과로서 행정청이 반드시 해야 하는특정 내용의 행정 작용은 기속 행위이다. 반면 법령상 요건이 충족되더라도 그 효과인 행정 작용의 구체적 내용을 ⓓ(고를)수 있는 재량이 행정청에 주어져 있을 때, 이러한 재량을 행사하는 행정 작용은 재량 행위이다. 법령에서 불확정 개념이 사용되면 이에 근거한 행정 작용은 대개 재량 행위이다.행정청은 재량으로 재량 행사의 기준을 명확히 정할 수 있는데 이 기준을 ㉠(재량 준칙)이라 한다. 재량 준칙은 법령이 아니므로 재량 준칙대로 재량을 행사하지 않아도 근거 법령 위반은 아니다. 다만 특정 요건하에 재량 준칙대로 특정한 내용의 적법한 행정 작용이 반복되어 행정 관행이 생긴 후에는, 같은 요건이 충족되면 행정청은 동일한 내용의 행정 작용을 해야 한다. 행정청은 평등 원칙을 ⓔ(지켜야) 하기 때문이다.\n",
            "13번 선택지: \n",
            "1. 이것이 네가 찾는 자료가 ⓐ(맞는지) 확인해 보아라.\n",
            "2. 그 부부는 노후 대책으로 적금을 ⓑ(들고) 안심했다.\n",
            "3. 그의 파격적인 주장은 학계의 큰 주목을 ⓒ(받았다).\n",
            "4. 형은 땀 흘려 울퉁불퉁한 땅을 평평하게 ⓓ(골랐다).\n",
            "5. 그분은 우리에게 한 약속을 반드시 ⓔ(지킬) 것이다.\n",
            "13번 질문: 문맥상 ⓐ～ⓔ의 의미와 가장 가까운 것은?(13번 문단을 분석한 후 13번 선택지에서 13번 질문의 답을 고르세요).\n",
            "\n",
            "14번 문단: 하루에 필요한 에너지의 양은 하루 동안의 총 열량 소모량인 대사량으로 구한다. 그중 기초 대사량은 생존에 필수적인 에너지로, 쾌적한 온도에서 편히 쉬는 동물이 공복 상태에서 생성하는열량으로 정의된다. 이때 체내에서 생성한 열량은 일정한 체온에서 체외로 발산되는 열량과 같다. 기초 대사량은 개체에 따라대사량의 60～75%를 차지하고, 근육량이 많을수록 증가한다.기초 대사량은 직접법 또는 간접법으로 구한다. ㉠ (직접법)은 온도가 일정하게 유지되고 공기의 출입량을 알고 있는 호흡실에서 동물이 발산하는 열량을 열량계를 이용해 측정하는 방법이다. ㉡ (간접법)은 호흡 측정 장치를 이용해 동물의 산소 소비량과 이산화 탄소 배출량을 측정하고, 이를 기준으로 체내에서 생성된 열량을 추정하는 방법이다.19세기의 초기 연구는 체외로 발산되는 열량이 체표 면적에 비례한다고 보았다. 즉 그 둘이 항상 일정한 비(比)를 갖는다는 것이다. 체표 면적은 (체중)^0.67에 비례하므로, 기초 대사량은 체중이 아닌 (체중)^0.67에 비례한다고 하였다. 어떤 변수의 증가율은 증가 후 값을 증가 전 값으로 나눈 값이므로, 체중이 W에서2W로 커지면 체중의 증가율은 (2W) / (W)＝2이다. 이 경우에 기초대사량의 증가율은 (2W)^0.67 / (W)^0.67 ＝ 2^0.67, 즉 약 1.6이 된다.1930년대에 클라이버는 생쥐부터 코끼리까지 다양한 크기의 동물의 기초 대사량 측정 결과를 분석했다. 그래프의 가로축 변수로 동물의 체중을, 세로축 변수로 기초 대사량을 두고, 각 동물별 체중과 기초 대사량의 순서쌍을 점으로 나타냈다. 가로축과 세로축 두 변수의 증가율이 서로 다를 경우, 그 둘의 증가율이 같을 때와 달리, ‘일반적인 그래프’에서 이 점들은 직선이 아닌 어떤 곡선의 주변에 분포한다. 그런데 순서쌍의 값에 상용로그를 취해 새로운 순서쌍을 만들어서 이를 <그림>과같이 그래프에 표시하면, 어떤 직선의 주변에 점들이 분포하는 것으로 나타난다. 그러면 그 직선의 기울기를 이용해두 변수의 증가율을 비교할 수 있다. <그림>에서 X와 Y는 각각 체중과 기초대사량에 상용로그를 취한 값이다. 이런 방식으로 표현한 그래프를 ‘L-그래프’라 하자. 체중의 증가율에 비해, 기초 대사량의 증가율이 작다면 L-그래프에서 직선의 기울기는 1보다 작으며 기초 대사량의 증가율이 작을수록 기울기도 작아진다. 만약 체중의 증가율과 기초 대사량의 증가율이 같다면 L-그래프에서 직선의 기울기는 1이 된다.이렇듯 L-그래프와 같은 방식으로 표현할 때, 생물의 어떤 형질이 체중 또는 몸 크기와 직선의 관계를 보이며 함께 증가하는 경우 그 형질은 ‘상대 성장’을 한다고 한다. 동일 종에서의심장, 두뇌와 같은 신체 기관의 크기도 상대 성장을 따른다.한편, 그래프에서 가로축과 세로축 두 변수의 관계를 대변하는최적의 직선의 기울기와 절편은 최소 제곱법으로 구할 수 있다. 우선, 그래프에 두 변수의 순서쌍을 나타낸 점들 사이를 지나는임의의 직선을 그린다. 각 점에서 가로축에 수직 방향으로 직선까지의 거리인 편차의 절댓값을 구하고 이들을 각각 제곱하여 모두 합한 것이 ‘편차 제곱 합’이며, 편차 제곱 합이 가장 작은 직선을 구하는 것이 최소 제곱법이다.클라이버는 이런 방법에 근거하여 L-그래프에 나타난 최적의직선의 기울기로 0.75를 얻었고, 이에 따라 동물의 (체중)^0.75에 기초 대사량이 비례한다고 결론지었다. 이것을 ‘클라이버의 법칙’이라 하며, (체중)^0.75을 대사 체중이라 부른다. 대사 체중은 치료제 허용량의 결정에도 이용되는데, 이때 그 양은 대사 체중에 비례하여 정한다. 이는 치료제 허용량이 체내 대사와 밀접한 관련이 있기 때문이다.\n",
            "14번 선택지: \n",
            "1. 클라이버의 법칙은 동물의 기초 대사량이 대사 체중에 비례한다고 본다.\n",
            "2. 어떤 개체가 체중이 늘 때 다른 변화 없이 근육량이 늘면 기초 대사량이 증가한다.\n",
            "3. ‘L-그래프’에서 직선의 기울기는 가로축과 세로축 두 변수의 증가율의 차이와 동일하다.\n",
            "4. 최소 제곱법은 두 변수 간의 관계를 나타내는 최적의 직선의 기울기와 절편을 알게 해 준다.\n",
            "5. 동물의 신체 기관인 심장과 두뇌의 크기는 몸무게나 몸의 크기에 상대 성장을 하며 발달한다.\n",
            "14번 질문: 윗글의 내용과 일치하지 않는 것은?(14번 문단을 분석한 후 14번 선택지에서 14번 질문의 답을 고르세요).\n",
            "\n",
            "15번 문단: 하루에 필요한 에너지의 양은 하루 동안의 총 열량 소모량인 대사량으로 구한다. 그중 기초 대사량은 생존에 필수적인 에너지로, 쾌적한 온도에서 편히 쉬는 동물이 공복 상태에서 생성하는열량으로 정의된다. 이때 체내에서 생성한 열량은 일정한 체온에서 체외로 발산되는 열량과 같다. 기초 대사량은 개체에 따라대사량의 60～75%를 차지하고, 근육량이 많을수록 증가한다.기초 대사량은 직접법 또는 간접법으로 구한다. ㉠ (직접법)은 온도가 일정하게 유지되고 공기의 출입량을 알고 있는 호흡실에서 동물이 발산하는 열량을 열량계를 이용해 측정하는 방법이다. ㉡ (간접법)은 호흡 측정 장치를 이용해 동물의 산소 소비량과 이산화 탄소 배출량을 측정하고, 이를 기준으로 체내에서 생성된 열량을 추정하는 방법이다.19세기의 초기 연구는 체외로 발산되는 열량이 체표 면적에 비례한다고 보았다. 즉 그 둘이 항상 일정한 비(比)를 갖는다는 것이다. 체표 면적은 (체중)^0.67에 비례하므로, 기초 대사량은 체중이 아닌 (체중)^0.67에 비례한다고 하였다. 어떤 변수의 증가율은 증가 후 값을 증가 전 값으로 나눈 값이므로, 체중이 W에서2W로 커지면 체중의 증가율은 (2W) / (W)＝2이다. 이 경우에 기초대사량의 증가율은 (2W)^0.67 / (W)^0.67 ＝ 2^0.67, 즉 약 1.6이 된다.1930년대에 클라이버는 생쥐부터 코끼리까지 다양한 크기의 동물의 기초 대사량 측정 결과를 분석했다. 그래프의 가로축 변수로 동물의 체중을, 세로축 변수로 기초 대사량을 두고, 각 동물별 체중과 기초 대사량의 순서쌍을 점으로 나타냈다. 가로축과 세로축 두 변수의 증가율이 서로 다를 경우, 그 둘의 증가율이 같을 때와 달리, ‘일반적인 그래프’에서 이 점들은 직선이 아닌 어떤 곡선의 주변에 분포한다. 그런데 순서쌍의 값에 상용로그를 취해 새로운 순서쌍을 만들어서 이를 <그림>과같이 그래프에 표시하면, 어떤 직선의 주변에 점들이 분포하는 것으로 나타난다. 그러면 그 직선의 기울기를 이용해두 변수의 증가율을 비교할 수 있다. <그림>에서 X와 Y는 각각 체중과 기초대사량에 상용로그를 취한 값이다. 이런 방식으로 표현한 그래프를 ‘L-그래프’라 하자. 체중의 증가율에 비해, 기초 대사량의 증가율이 작다면 L-그래프에서 직선의 기울기는 1보다 작으며 기초 대사량의 증가율이 작을수록 기울기도 작아진다. 만약 체중의 증가율과 기초 대사량의 증가율이 같다면 L-그래프에서 직선의 기울기는 1이 된다.이렇듯 L-그래프와 같은 방식으로 표현할 때, 생물의 어떤 형질이 체중 또는 몸 크기와 직선의 관계를 보이며 함께 증가하는 경우 그 형질은 ‘상대 성장’을 한다고 한다. 동일 종에서의심장, 두뇌와 같은 신체 기관의 크기도 상대 성장을 따른다.한편, 그래프에서 가로축과 세로축 두 변수의 관계를 대변하는최적의 직선의 기울기와 절편은 최소 제곱법으로 구할 수 있다. 우선, 그래프에 두 변수의 순서쌍을 나타낸 점들 사이를 지나는임의의 직선을 그린다. 각 점에서 가로축에 수직 방향으로 직선까지의 거리인 편차의 절댓값을 구하고 이들을 각각 제곱하여 모두 합한 것이 ‘편차 제곱 합’이며, 편차 제곱 합이 가장 작은 직선을 구하는 것이 최소 제곱법이다.클라이버는 이런 방법에 근거하여 L-그래프에 나타난 최적의직선의 기울기로 0.75를 얻었고, 이에 따라 동물의 (체중)^0.75에 기초 대사량이 비례한다고 결론지었다. 이것을 ‘클라이버의 법칙’이라 하며, (체중)^0.75을 대사 체중이라 부른다. 대사 체중은 치료제 허용량의 결정에도 이용되는데, 이때 그 양은 대사 체중에 비례하여 정한다. 이는 치료제 허용량이 체내 대사와 밀접한 관련이 있기 때문이다.\n",
            "15번 선택지: \n",
            "1. 일반적인 경우 기초 대사량은 하루에 소모되는 총 열량 중에 가장 큰 비중을 차지하겠군.\n",
            "2. 클라이버의 결론에 따르면, 기초 대사량이 동물의 체표 면적에 비례한다고 볼 수 없겠군.\n",
            "3. 19세기의 초기 연구자들은 체중의 증가율보다 기초 대사량의 증가율이 작다고 생각했겠군.\n",
            "4. 코끼리에게 적용하는 치료제 허용량을 기준으로, 체중에 비례하여 생쥐에게 적용할 허용량을 정한 후 먹이면 과다 복용이 될 수 있겠군.\n",
            "5. 클라이버의 법칙에 따르면, 동물의 체중이 증가함에 따라 함께늘어나는 에너지의 필요량이 이전 초기 연구에서 생각했던 양보다 많겠군.\n",
            "15번 질문: 윗글을 읽고 추론한 내용으로 적절하지 않은 것은?(15번 문단을 분석한 후 15번 선택지에서 15번 질문의 답을 고르세요).\n",
            "\n",
            "\n"
          ]
        }
      ]
    },
    {
      "cell_type": "markdown",
      "source": [
        "## [MYCODE] GPT prediction def 정의\n"
      ],
      "metadata": {
        "id": "5b-0ReRlqvYj"
      }
    },
    {
      "cell_type": "code",
      "source": [
        "import re\n",
        "def prediction(prompt,flattend_df):\n",
        "\n",
        "    temperature = 0  # 창의성 및 각 token을 샘플링할 때 사용하는 temperature 값입니다.\n",
        "    max_tokens = 300  # 생성하는 최대 token 개수 입니다.\n",
        "    n = 1  # 같은 질의에 대해 몇 개의 답변을 출력할지 결정합니다.\n",
        "    frequency_penalty = 0.0  # 같은 단어가 반복적으로 나오는 것을 방지하기 위한 옵션입니다\n",
        "    final_score = 0 # 최종 점수\n",
        "\n",
        "    # GPT-4에게 질문을 던지고 예측을 받는 부분\n",
        "    messages = [\n",
        "    {\"role\": \"system\", \"content\": \"모든 답변은 반드시 '###숫자' 형식으로만 작성되어야 합니다.\"},\n",
        "    {\"role\": \"system\", \"content\": \"각 질문에 대한 답변은 반드시 하나의 답으로만 답해야 합니다.\"},\n",
        "    {\"role\": \"system\", \"content\": \"당신은 수능 국어를 가르치는 선생님입니다.\"},\n",
        "    {\"role\": \"system\", \"content\": \"이 문제는 국어 평가원 기출 문제와 유사한 유형입니다. 지문과 선택지를 꼼꼼히 비교한 뒤, 가장 적절한 답을 선택하세요.\"},\n",
        "    {\"role\": \"system\", \"content\": \"지문의 중심 내용과 주제를 파악해서 질문의 답하세요.\"},\n",
        "    {\"role\": \"system\", \"content\": \"선택지의 표현이 지문과 다르거나 과장된 경우를 주의하세요.\"},\n",
        "    {\"role\": \"system\", \"content\": \"선택지를 검토하며 가장 가능성이 높은 정답부터 우선 평가하세요.\"},\n",
        "    {\"role\": \"user\", \"content\": prompt}\n",
        "]\n",
        "    response = client.chat.completions.create(\n",
        "        model=\"gpt-4o\",\n",
        "        messages=messages,\n",
        "        n=n,\n",
        "        temperature=temperature,\n",
        "        max_tokens=max_tokens,\n",
        "        frequency_penalty=frequency_penalty\n",
        "    )\n",
        "\n",
        "    #print(f\"response : {response}\")\n",
        "\n",
        "    # GPT-4의 답변 추출\n",
        "    gpt_answer = response.choices[0].message.content\n",
        "    print(f\"gpt_answer : {response.choices[0].message.content}\")\n",
        "    # \"정답: \" 부분을 제거하고, 숫자만 추출하여 리스트로 변환\n",
        "    # 정규식을 사용하여 ### 뒤의 숫자 추출\n",
        "    gpt_answer_list = re.findall(r\"###(\\d+)\", gpt_answer)\n",
        "    print(f\"gpt_answer_list : {gpt_answer_list}\")\n",
        "\n",
        "    return gpt_answer_list"
      ],
      "metadata": {
        "id": "FiMBURPQZr-x"
      },
      "execution_count": null,
      "outputs": []
    },
    {
      "cell_type": "markdown",
      "source": [
        "## [MYCODE] 수능 국어 샘플로 문제 풀어보기"
      ],
      "metadata": {
        "id": "JHmE5_F-qirw"
      }
    },
    {
      "cell_type": "code",
      "source": [
        "# 문제 점수 계산\n",
        "def score_check(response,df):\n",
        "  answer_score_pairs = list(zip(df['answer'], df['score']))\n",
        "  final_score = 0\n",
        "  for idx, (answer, score) in enumerate(answer_score_pairs[:len(response)]):\n",
        "    print(f\"answer: {answer}, response[idx]: {response[idx]} , score : {score}\")\n",
        "    if str(answer) == response[idx]:\n",
        "      final_score += score\n",
        "  return final_score"
      ],
      "metadata": {
        "id": "Z_k1FOhrfZ6s"
      },
      "execution_count": null,
      "outputs": []
    },
    {
      "cell_type": "code",
      "source": [
        "# 데이터 평준화\n",
        "flattend_df = create_flattend_data(CSAT_questions_json)\n",
        "\n",
        "\n",
        "# 샘플 예제 예측 및 결과\n",
        "gpt_answer_list = prediction(batch_prompt[8],flattend_df)\n",
        "\n",
        "# 스코어 계산\n",
        "score = score_check(gpt_answer_list, flattend_df)\n",
        "print(f\"샘플 데이터로 준 결과 {score}점 입니다.\")\n"
      ],
      "metadata": {
        "colab": {
          "base_uri": "https://localhost:8080/"
        },
        "id": "63MEV50nYlmS",
        "outputId": "206a5c57-570e-45f4-da95-80a5f1d456cf",
        "collapsed": true
      },
      "execution_count": null,
      "outputs": [
        {
          "output_type": "stream",
          "name": "stdout",
          "text": [
            "gpt_answer : ###3, ###4, ###1\n",
            "gpt_answer_list : ['3', '4', '1']\n",
            "answer: 4, response[idx]: 3 , score : 2\n",
            "answer: 5, response[idx]: 4 , score : 3\n",
            "answer: 1, response[idx]: 1 , score : 2\n",
            "샘플 데이터로 준 결과 2점 입니다.\n"
          ]
        }
      ]
    },
    {
      "cell_type": "markdown",
      "source": [
        "## [MYCODE] 최종 결과"
      ],
      "metadata": {
        "id": "74K3txSwxJAb"
      }
    },
    {
      "cell_type": "code",
      "source": [
        "# 수능 국어 문제를 풀어보기\n",
        "\n",
        "# 전체 문제fmf batch 별로 나눠서 생성  prompt 작성\n",
        "batch_size = 3\n",
        "batch_prompts = generate_batch_prompt(flattend_df, batch_size)\n",
        "\n",
        "# 전체 문제 예측 및 최종 결과\n",
        "final_gpt_answer_list = [] # 결과 저장\n",
        "for batch_prompt in batch_prompts:\n",
        "  final_gpt_answer_list.append(prediction(batch_prompt, flattend_df))\n",
        "\n",
        "print(final_gpt_answer_list)"
      ],
      "metadata": {
        "colab": {
          "base_uri": "https://localhost:8080/"
        },
        "id": "i2aNQN6lw1CW",
        "outputId": "ec30e79e-a665-45c5-b4f2-fd78f724ec1a"
      },
      "execution_count": null,
      "outputs": [
        {
          "output_type": "stream",
          "name": "stdout",
          "text": [
            "gpt_answer : ###4, ###1, ###1\n",
            "gpt_answer_list : ['4', '1', '1']\n",
            "gpt_answer : ###4, ###5, ###3\n",
            "gpt_answer_list : ['4', '5', '3']\n",
            "gpt_answer : ###2, ###5, ###2\n",
            "gpt_answer_list : ['2', '5', '2']\n",
            "gpt_answer : ###4, ###5, ###2\n",
            "gpt_answer_list : ['4', '5', '2']\n",
            "gpt_answer : ###4, ###3, ###3\n",
            "gpt_answer_list : ['4', '3', '3']\n",
            "gpt_answer : ###5, ###1, ###4\n",
            "gpt_answer_list : ['5', '1', '4']\n",
            "gpt_answer : ###3, ###3, ###5\n",
            "gpt_answer_list : ['3', '3', '5']\n",
            "gpt_answer : ###3, ###5, ###3\n",
            "gpt_answer_list : ['3', '5', '3']\n",
            "gpt_answer : ###3, ###4, ###1\n",
            "gpt_answer_list : ['3', '4', '1']\n",
            "gpt_answer : ###5, ###1, ###2\n",
            "gpt_answer_list : ['5', '1', '2']\n",
            "gpt_answer : ###1, ###4, ###2\n",
            "gpt_answer_list : ['1', '4', '2']\n",
            "gpt_answer : ###3, ###1, ###5\n",
            "gpt_answer_list : ['3', '1', '5']\n",
            "gpt_answer : ###3, ###4, ###2\n",
            "gpt_answer_list : ['3', '4', '2']\n",
            "gpt_answer : ###5, ###2, ###4\n",
            "gpt_answer_list : ['5', '2', '4']\n",
            "gpt_answer : ###5, ###1, ###5\n",
            "gpt_answer_list : ['5', '1', '5']\n",
            "[['4', '1', '1'], ['4', '5', '3'], ['2', '5', '2'], ['4', '5', '2'], ['4', '3', '3'], ['5', '1', '4'], ['3', '3', '5'], ['3', '5', '3'], ['3', '4', '1'], ['5', '1', '2'], ['1', '4', '2'], ['3', '1', '5'], ['3', '4', '2'], ['5', '2', '4'], ['5', '1', '5']]\n"
          ]
        }
      ]
    },
    {
      "cell_type": "code",
      "source": [
        "## 최종 점수\n",
        "# 평탄화\n",
        "flattened_gpt_answer_list = [item for sublist in final_gpt_answer_list for item in sublist]\n",
        "\n",
        "final_score = score_check(flattened_gpt_answer_list, flattend_df)\n",
        "print(f\"GPT 님의 점수는 {final_score} 입니다.\")"
      ],
      "metadata": {
        "colab": {
          "base_uri": "https://localhost:8080/"
        },
        "id": "m9llqK76Ngs-",
        "outputId": "7531c5ae-9d4d-4a85-d6be-659306aea753"
      },
      "execution_count": null,
      "outputs": [
        {
          "output_type": "stream",
          "name": "stdout",
          "text": [
            "answer: 4, response[idx]: 4 , score : 2\n",
            "answer: 5, response[idx]: 1 , score : 3\n",
            "answer: 1, response[idx]: 1 , score : 2\n",
            "answer: 4, response[idx]: 4 , score : 2\n",
            "answer: 5, response[idx]: 5 , score : 2\n",
            "answer: 3, response[idx]: 3 , score : 2\n",
            "answer: 2, response[idx]: 2 , score : 2\n",
            "answer: 5, response[idx]: 5 , score : 3\n",
            "answer: 2, response[idx]: 2 , score : 2\n",
            "answer: 4, response[idx]: 4 , score : 2\n",
            "answer: 5, response[idx]: 5 , score : 2\n",
            "answer: 2, response[idx]: 2 , score : 3\n",
            "answer: 5, response[idx]: 4 , score : 2\n",
            "answer: 3, response[idx]: 3 , score : 2\n",
            "answer: 4, response[idx]: 3 , score : 2\n",
            "answer: 4, response[idx]: 5 , score : 2\n",
            "answer: 1, response[idx]: 1 , score : 3\n",
            "answer: 4, response[idx]: 4 , score : 2\n",
            "answer: 3, response[idx]: 3 , score : 2\n",
            "answer: 3, response[idx]: 3 , score : 2\n",
            "answer: 5, response[idx]: 5 , score : 3\n",
            "answer: 1, response[idx]: 3 , score : 2\n",
            "answer: 5, response[idx]: 5 , score : 2\n",
            "answer: 3, response[idx]: 3 , score : 3\n",
            "answer: 3, response[idx]: 3 , score : 2\n",
            "answer: 4, response[idx]: 4 , score : 2\n",
            "answer: 1, response[idx]: 1 , score : 2\n",
            "answer: 5, response[idx]: 5 , score : 2\n",
            "answer: 1, response[idx]: 1 , score : 2\n",
            "answer: 2, response[idx]: 2 , score : 3\n",
            "answer: 1, response[idx]: 1 , score : 2\n",
            "answer: 4, response[idx]: 4 , score : 2\n",
            "answer: 2, response[idx]: 2 , score : 2\n",
            "answer: 3, response[idx]: 3 , score : 3\n",
            "answer: 1, response[idx]: 1 , score : 2\n",
            "answer: 5, response[idx]: 5 , score : 2\n",
            "answer: 3, response[idx]: 3 , score : 2\n",
            "answer: 4, response[idx]: 4 , score : 2\n",
            "answer: 4, response[idx]: 2 , score : 2\n",
            "answer: 3, response[idx]: 5 , score : 2\n",
            "answer: 2, response[idx]: 2 , score : 3\n",
            "answer: 4, response[idx]: 4 , score : 2\n",
            "answer: 5, response[idx]: 5 , score : 2\n",
            "answer: 2, response[idx]: 1 , score : 2\n",
            "answer: 1, response[idx]: 5 , score : 3\n",
            "GPT 님의 점수는 80 입니다.\n"
          ]
        }
      ]
    },
    {
      "cell_type": "code",
      "source": [
        "# 전체 문제fmf batch 별로 나눠서 생성  prompt 작성\n",
        "batch_size = 1\n",
        "batch_prompts = generate_batch_prompt(flattend_df, batch_size)\n",
        "\n",
        "# 전체 문제 예측 및 최종 결과\n",
        "final_gpt_answer_list_onliyone = [] # 결과 저장\n",
        "for batch_prompt in batch_prompts:\n",
        "  final_gpt_answer_list_onliyone.append(prediction(batch_prompt, flattend_df))\n",
        "\n",
        "print(final_gpt_answer_list_onliyone)"
      ],
      "metadata": {
        "colab": {
          "base_uri": "https://localhost:8080/"
        },
        "id": "huVgQ1KBASX2",
        "outputId": "893d5c3b-be1f-4884-8348-09425b10d8f2"
      },
      "execution_count": null,
      "outputs": [
        {
          "output_type": "stream",
          "name": "stdout",
          "text": [
            "gpt_answer : ###4\n",
            "gpt_answer_list : ['4']\n",
            "gpt_answer : ###5\n",
            "gpt_answer_list : ['5']\n",
            "gpt_answer : ###1\n",
            "gpt_answer_list : ['1']\n",
            "gpt_answer : ###4\n",
            "gpt_answer_list : ['4']\n",
            "gpt_answer : ###5\n",
            "gpt_answer_list : ['5']\n",
            "gpt_answer : ###3\n",
            "gpt_answer_list : ['3']\n",
            "gpt_answer : ###2\n",
            "gpt_answer_list : ['2']\n",
            "gpt_answer : ###5\n",
            "gpt_answer_list : ['5']\n",
            "gpt_answer : ###2\n",
            "gpt_answer_list : ['2']\n",
            "gpt_answer : ###4\n",
            "gpt_answer_list : ['4']\n",
            "gpt_answer : ###5\n",
            "gpt_answer_list : ['5']\n",
            "gpt_answer : ###2\n",
            "gpt_answer_list : ['2']\n",
            "gpt_answer : ###5\n",
            "gpt_answer_list : ['5']\n",
            "gpt_answer : ###3\n",
            "gpt_answer_list : ['3']\n",
            "gpt_answer : ###5\n",
            "gpt_answer_list : ['5']\n",
            "gpt_answer : ###4\n",
            "gpt_answer_list : ['4']\n",
            "gpt_answer : ###1\n",
            "gpt_answer_list : ['1']\n",
            "gpt_answer : ###4\n",
            "gpt_answer_list : ['4']\n",
            "gpt_answer : ###3\n",
            "gpt_answer_list : ['3']\n",
            "gpt_answer : ###3\n",
            "gpt_answer_list : ['3']\n",
            "gpt_answer : ###5\n",
            "gpt_answer_list : ['5']\n",
            "gpt_answer : ###1\n",
            "gpt_answer_list : ['1']\n",
            "gpt_answer : ###5\n",
            "gpt_answer_list : ['5']\n",
            "gpt_answer : ###3\n",
            "gpt_answer_list : ['3']\n",
            "gpt_answer : ###3\n",
            "gpt_answer_list : ['3']\n",
            "gpt_answer : ###4\n",
            "gpt_answer_list : ['4']\n",
            "gpt_answer : ###1\n",
            "gpt_answer_list : ['1']\n",
            "gpt_answer : ###5\n",
            "gpt_answer_list : ['5']\n",
            "gpt_answer : ###1\n",
            "gpt_answer_list : ['1']\n",
            "gpt_answer : ###2\n",
            "gpt_answer_list : ['2']\n",
            "gpt_answer : ###1\n",
            "gpt_answer_list : ['1']\n",
            "gpt_answer : ###4\n",
            "gpt_answer_list : ['4']\n",
            "gpt_answer : ###2\n",
            "gpt_answer_list : ['2']\n",
            "gpt_answer : ###3\n",
            "gpt_answer_list : ['3']\n",
            "gpt_answer : ###1\n",
            "gpt_answer_list : ['1']\n",
            "gpt_answer : ###5\n",
            "gpt_answer_list : ['5']\n",
            "gpt_answer : ###3\n",
            "gpt_answer_list : ['3']\n",
            "gpt_answer : ###4\n",
            "gpt_answer_list : ['4']\n",
            "gpt_answer : ###4\n",
            "gpt_answer_list : ['4']\n",
            "gpt_answer : ###5\n",
            "gpt_answer_list : ['5']\n",
            "gpt_answer : ###2\n",
            "gpt_answer_list : ['2']\n",
            "gpt_answer : ###2\n",
            "gpt_answer_list : ['2']\n",
            "gpt_answer : ###5\n",
            "gpt_answer_list : ['5']\n",
            "gpt_answer : ###2\n",
            "gpt_answer_list : ['2']\n",
            "gpt_answer : ###1\n",
            "gpt_answer_list : ['1']\n",
            "[['4'], ['5'], ['1'], ['4'], ['5'], ['3'], ['2'], ['5'], ['2'], ['4'], ['5'], ['2'], ['5'], ['3'], ['5'], ['4'], ['1'], ['4'], ['3'], ['3'], ['5'], ['1'], ['5'], ['3'], ['3'], ['4'], ['1'], ['5'], ['1'], ['2'], ['1'], ['4'], ['2'], ['3'], ['1'], ['5'], ['3'], ['4'], ['4'], ['5'], ['2'], ['2'], ['5'], ['2'], ['1']]\n"
          ]
        }
      ]
    },
    {
      "cell_type": "code",
      "source": [
        "## 최종 점수\n",
        "# 평탄화\n",
        "flattened_gpt_one_answer_list = [item for sublist in final_gpt_answer_list_onliyone for item in sublist]\n",
        "\n",
        "final_score = score_check(flattened_gpt_one_answer_list, flattend_df)\n",
        "print(f\"GPT 님의 점수는 {final_score} 입니다.\")"
      ],
      "metadata": {
        "colab": {
          "base_uri": "https://localhost:8080/"
        },
        "id": "xT0PQi_fA1kc",
        "outputId": "c9993224-398b-4ade-f473-983d17f58c3a"
      },
      "execution_count": null,
      "outputs": [
        {
          "output_type": "stream",
          "name": "stdout",
          "text": [
            "answer: 4, response[idx]: 4 , score : 2\n",
            "answer: 5, response[idx]: 5 , score : 3\n",
            "answer: 1, response[idx]: 1 , score : 2\n",
            "answer: 4, response[idx]: 4 , score : 2\n",
            "answer: 5, response[idx]: 5 , score : 2\n",
            "answer: 3, response[idx]: 3 , score : 2\n",
            "answer: 2, response[idx]: 2 , score : 2\n",
            "answer: 5, response[idx]: 5 , score : 3\n",
            "answer: 2, response[idx]: 2 , score : 2\n",
            "answer: 4, response[idx]: 4 , score : 2\n",
            "answer: 5, response[idx]: 5 , score : 2\n",
            "answer: 2, response[idx]: 2 , score : 3\n",
            "answer: 5, response[idx]: 5 , score : 2\n",
            "answer: 3, response[idx]: 3 , score : 2\n",
            "answer: 4, response[idx]: 5 , score : 2\n",
            "answer: 4, response[idx]: 4 , score : 2\n",
            "answer: 1, response[idx]: 1 , score : 3\n",
            "answer: 4, response[idx]: 4 , score : 2\n",
            "answer: 3, response[idx]: 3 , score : 2\n",
            "answer: 3, response[idx]: 3 , score : 2\n",
            "answer: 5, response[idx]: 5 , score : 3\n",
            "answer: 1, response[idx]: 1 , score : 2\n",
            "answer: 5, response[idx]: 5 , score : 2\n",
            "answer: 3, response[idx]: 3 , score : 3\n",
            "answer: 3, response[idx]: 3 , score : 2\n",
            "answer: 4, response[idx]: 4 , score : 2\n",
            "answer: 1, response[idx]: 1 , score : 2\n",
            "answer: 5, response[idx]: 5 , score : 2\n",
            "answer: 1, response[idx]: 1 , score : 2\n",
            "answer: 2, response[idx]: 2 , score : 3\n",
            "answer: 1, response[idx]: 1 , score : 2\n",
            "answer: 4, response[idx]: 4 , score : 2\n",
            "answer: 2, response[idx]: 2 , score : 2\n",
            "answer: 3, response[idx]: 3 , score : 3\n",
            "answer: 1, response[idx]: 1 , score : 2\n",
            "answer: 5, response[idx]: 5 , score : 2\n",
            "answer: 3, response[idx]: 3 , score : 2\n",
            "answer: 4, response[idx]: 4 , score : 2\n",
            "answer: 4, response[idx]: 4 , score : 2\n",
            "answer: 3, response[idx]: 5 , score : 2\n",
            "answer: 2, response[idx]: 2 , score : 3\n",
            "answer: 4, response[idx]: 2 , score : 2\n",
            "answer: 5, response[idx]: 5 , score : 2\n",
            "answer: 2, response[idx]: 2 , score : 2\n",
            "answer: 1, response[idx]: 1 , score : 3\n",
            "GPT 님의 점수는 94 입니다.\n"
          ]
        }
      ]
    },
    {
      "cell_type": "markdown",
      "source": [
        "##[FEEDBAK] 문제를 45개의 문제를 3개씩 쪼개어 실행했을때는 80점까지 나오지만 1개의 문제로만 진행했을때는 정답률이 94점까지 나온걸 보면 높아지는 걸 확인했습니다. 여러개의 문제를 한번에 줄때 어떤 부분을 보충해서 해보면 정답률을 높일 수 있나요?"
      ],
      "metadata": {
        "id": "cMOHAOlvA_l_"
      }
    }
  ]
}